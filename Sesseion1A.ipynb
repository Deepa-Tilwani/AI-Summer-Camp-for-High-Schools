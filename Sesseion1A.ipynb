{
  "nbformat": 4,
  "nbformat_minor": 0,
  "metadata": {
    "colab": {
      "provenance": [],
      "authorship_tag": "ABX9TyMmJYFh4zc4YEeUjLvs3qpN",
      "include_colab_link": true
    },
    "kernelspec": {
      "name": "python3",
      "display_name": "Python 3"
    },
    "language_info": {
      "name": "python"
    }
  },
  "cells": [
    {
      "cell_type": "markdown",
      "metadata": {
        "id": "view-in-github",
        "colab_type": "text"
      },
      "source": [
        "<a href=\"https://colab.research.google.com/github/Deepa-Tilwani/AI-Summer-Camp-for-High-Schools/blob/main/Sesseion1A.ipynb\" target=\"_parent\"><img src=\"https://colab.research.google.com/assets/colab-badge.svg\" alt=\"Open In Colab\"/></a>"
      ]
    },
    {
      "cell_type": "markdown",
      "source": [
        "Lesson 1: Introduction to Python\n",
        "\n"
      ],
      "metadata": {
        "id": "nCJ3B8hf3AGX"
      }
    },
    {
      "cell_type": "markdown",
      "source": [
        "Excercise :  Create a list of fruits in following order \"apple\", \"banana\", \"orange\", \"kiwi\"."
      ],
      "metadata": {
        "id": "VuVfhcsL9zDS"
      }
    },
    {
      "cell_type": "code",
      "source": [
        "fruits = ??"
      ],
      "metadata": {
        "id": "uw-xNzwf91Rx"
      },
      "execution_count": null,
      "outputs": []
    },
    {
      "cell_type": "markdown",
      "source": [
        "Accessing Elements:\n",
        "You can access individual elements within a list by their index, which represents their position in the list. Show the first element in list."
      ],
      "metadata": {
        "id": "IX1V7dKY9-gg"
      }
    },
    {
      "cell_type": "code",
      "source": [
        "print(fruits?)  # Output: \"apple\"\n"
      ],
      "metadata": {
        "id": "MZJeS10K95uN"
      },
      "execution_count": null,
      "outputs": []
    },
    {
      "cell_type": "markdown",
      "source": [
        "TRy : Negative indexing to access elements  [-1] (Show the TA in lab what do you understand)."
      ],
      "metadata": {
        "id": "Jxj59t74-ZMe"
      }
    },
    {
      "cell_type": "code",
      "source": [
        "print(fruits[-1])"
      ],
      "metadata": {
        "id": "lG65n8PN-jxn"
      },
      "execution_count": null,
      "outputs": []
    },
    {
      "cell_type": "markdown",
      "source": [
        "Iterating Over a List:\n",
        "You can use loops, such as \"for\" or \"while\" loops, to iterate over the elements of a list.\n"
      ],
      "metadata": {
        "id": "fDE26JND-1W7"
      }
    },
    {
      "cell_type": "code",
      "source": [
        "??? fruit in fruits: #(fill question mark and run)\n",
        "    print(fruit)"
      ],
      "metadata": {
        "id": "_XMKCxC0-4_7"
      },
      "execution_count": null,
      "outputs": []
    },
    {
      "cell_type": "markdown",
      "source": [
        "Exercise:\n",
        "Write a program that asks the user for their name and greets them with a personalized message."
      ],
      "metadata": {
        "id": "yClSwxhS9kPQ"
      }
    },
    {
      "cell_type": "code",
      "source": [
        "name = input(\"What is your name? \")\n",
        "print(\"Hello, \" + name + \"! Nice to meet you.\") #String Concatnation\n"
      ],
      "metadata": {
        "colab": {
          "base_uri": "https://localhost:8080/"
        },
        "id": "EZUYKtko3BOz",
        "outputId": "ccdc5b05-31dc-4c1b-aa00-3d2ff076653c"
      },
      "execution_count": null,
      "outputs": [
        {
          "output_type": "stream",
          "name": "stdout",
          "text": [
            "What is your name? Deepa\n",
            "Hello, Deepa! Nice to meet you.\n"
          ]
        }
      ]
    },
    {
      "cell_type": "markdown",
      "source": [
        "Excercise : Write a program that calculates the area of a rectangle given its length and width. Length and width are float."
      ],
      "metadata": {
        "id": "SaaTkOM_3odd"
      }
    },
    {
      "cell_type": "code",
      "source": [
        "length = #take input from user\n",
        "width = #take input from user\n",
        "area = length * width\n",
        "print(\"The area of the rectangle is:\", area)"
      ],
      "metadata": {
        "colab": {
          "base_uri": "https://localhost:8080/"
        },
        "id": "vgogP7RB3uO_",
        "outputId": "8983334d-7472-469b-f5f5-2b4aaa5dcfcc"
      },
      "execution_count": null,
      "outputs": [
        {
          "output_type": "stream",
          "name": "stdout",
          "text": [
            "The area of the rectangle is: 15.75\n"
          ]
        }
      ]
    },
    {
      "cell_type": "markdown",
      "source": [
        " Control Flow and Loops\n",
        "\n",
        "Exercise:\n",
        "Write a program that checks if a number entered by the user is positive, negative, or zero."
      ],
      "metadata": {
        "id": "OeqLnI7H3MeR"
      }
    },
    {
      "cell_type": "code",
      "source": [
        "num = float(input(\"Enter a number: \"))\n",
        "if num > 0:\n",
        "    print(\"The number is positive.\")\n",
        "elif num < 0:\n",
        "    print(\"The number is negative.\")\n",
        "else:\n",
        "    print(\"The number is zero.\")"
      ],
      "metadata": {
        "colab": {
          "base_uri": "https://localhost:8080/"
        },
        "id": "uthfXJHY3KnS",
        "outputId": "58e6782b-3249-4150-a9e8-2bc41ca75a10"
      },
      "execution_count": null,
      "outputs": [
        {
          "output_type": "stream",
          "name": "stdout",
          "text": [
            "Enter a number: 4\n",
            "The number is positive.\n"
          ]
        }
      ]
    },
    {
      "cell_type": "markdown",
      "source": [
        "Exercise: Grade Calculator\n",
        "\n",
        "Write a program that takes a student's score as input and prints their corresponding grade based on the following grading scale:\n",
        "\n",
        "    A: 90 or above\n",
        "    B: 80-89\n",
        "    C: 70-79\n",
        "    D: 60-69\n",
        "    F: below 60\n",
        "\n",
        "Your program should ask the user to enter their score and then display their grade."
      ],
      "metadata": {
        "id": "N-ZEazkC_2uj"
      }
    },
    {
      "cell_type": "code",
      "source": [
        "score = int(input(\"Enter your score: \"))\n",
        "\n",
        "if\n",
        "\n",
        "elif\n",
        "\n",
        "   #complete it...\n",
        "\n",
        "#print your grade"
      ],
      "metadata": {
        "id": "yOuIXViS_1g9"
      },
      "execution_count": null,
      "outputs": []
    },
    {
      "cell_type": "markdown",
      "source": [
        "Excercise: Write a program that prints the Fibonacci sequence up to a given number of terms."
      ],
      "metadata": {
        "id": "2u90O0Jp4G9e"
      }
    },
    {
      "cell_type": "code",
      "source": [
        "terms = #take input from user\n",
        "a, b = 0, 1\n",
        "count = 0\n",
        "print(\"Fibonacci sequence:\")\n",
        "while count < terms:\n",
        "    print(a)\n",
        "    a, b = b, a + b\n",
        "    count += 1\n"
      ],
      "metadata": {
        "id": "rAT5srvt3Z1c"
      },
      "execution_count": null,
      "outputs": []
    },
    {
      "cell_type": "markdown",
      "source": [
        "Excercise: Write a program that generates a multiplication table for a given number. The program should ask the user to enter a number and then display the multiplication table for that number from 1 to 10.\n",
        "\n",
        "Here's an example of how the program should behave:\n",
        "\n",
        "less\n",
        "\n",
        "Enter a number: 7\n",
        "\n",
        "Multiplication Table for 7:<br>\n",
        "7 x 1 = 7 <br>\n",
        "7 x 2 = 14 <br>\n",
        "7 x 3 = 21<br>\n",
        "7 x 4 = 28<br>\n",
        "7 x 5 = 35<br>\n",
        "7 x 6 = 42<br>\n",
        "7 x 7 = 49<br>\n",
        "7 x 8 = 56<br>\n",
        "7 x 9 = 63<br>\n",
        "7 x 10 = 70<br>\n",
        "\n",
        "To solve this exercise, you can use the following steps as a guideline:\n",
        "\n",
        "    Ask the user to input a number using the input() function. Remember to convert the input to an integer using the int() function.\n",
        "\n",
        "    Use a for loop to iterate over the numbers from 1 to 10.\n",
        "\n",
        "    Within the loop, calculate the product of the input number and the current iteration number.\n",
        "\n",
        "    Print the multiplication expression and its result using string concatenation or f-strings."
      ],
      "metadata": {
        "id": "M_HdgBqZAoEg"
      }
    },
    {
      "cell_type": "code",
      "source": [
        "number = int(input(\"Enter a number: \"))\n",
        "\n",
        "print(f\"Multiplication Table for {number}:\")\n",
        "for i in range(1, 11):\n",
        "    #fill your code"
      ],
      "metadata": {
        "id": "cXCtkjhVA5aJ"
      },
      "execution_count": null,
      "outputs": []
    },
    {
      "cell_type": "markdown",
      "source": [],
      "metadata": {
        "id": "KhSMiKiDA43_"
      }
    },
    {
      "cell_type": "markdown",
      "source": [
        " Functions and Modules\n",
        "\n",
        "Exercise:\n",
        "Write a function that takes a list of numbers as input and returns the sum of all the numbers."
      ],
      "metadata": {
        "id": "GeDM2jF73aED"
      }
    },
    {
      "cell_type": "code",
      "source": [
        "def calculate_sum(numbers):\n",
        "    total = 0\n",
        "    for num in numbers:\n",
        "        total += num\n",
        "    return total\n",
        "\n",
        "numbers = [1, 2, 3, 4, 5]\n",
        "print(\"Sum:\", calculate_sum(numbers))"
      ],
      "metadata": {
        "colab": {
          "base_uri": "https://localhost:8080/"
        },
        "id": "agWC-7Wt3Q6f",
        "outputId": "c897f91a-2c46-43b6-c1b6-2b21632929dc"
      },
      "execution_count": null,
      "outputs": [
        {
          "output_type": "stream",
          "name": "stdout",
          "text": [
            "Sum: 15\n"
          ]
        }
      ]
    },
    {
      "cell_type": "markdown",
      "source": [
        "Exercise: Triangle Pattern\n",
        "\n",
        "Write a program that prints a triangle pattern of numbers based on user input. The program should ask the user to enter a number, and then print a pattern where each row contains a sequence of numbers from 1 up to the row number.\n",
        "\n",
        "Here's an example of how the program should behave:\n",
        "\n",
        "mathematica\n",
        "\n",
        "Enter a number: 5\n",
        "\n",
        "Pattern: <br>\n",
        "1<br>\n",
        "1 2<br>\n",
        "1 2 3<br>\n",
        "1 2 3 4<br>\n",
        "1 2 3 4 5<br>\n"
      ],
      "metadata": {
        "id": "U59sul2SBroG"
      }
    },
    {
      "cell_type": "markdown",
      "source": [],
      "metadata": {
        "id": "wHNsvxgUCJGV"
      }
    },
    {
      "cell_type": "code",
      "source": [
        "def print_triangle_pattern(num):\n",
        "    #Try your logic\n",
        "\n",
        "# Ask the user for input\n",
        "number = int(input(\"Enter a number: \"))\n",
        "\n",
        "# Call the function\n",
        "print(\"Pattern:\")\n",
        "print_triangle_pattern(number"
      ],
      "metadata": {
        "id": "HkQavD2ICJaE"
      },
      "execution_count": null,
      "outputs": []
    },
    {
      "cell_type": "code",
      "source": [
        "print(\"Let's draw a smiley face!\")\n",
        "\n",
        "smiley = \"\"\"\n",
        "     .-''''''-.\n",
        "   .'          '.\n",
        "  /   O      O   \\\\\n",
        " :           `    :\n",
        " |                |\n",
        " :    .------.    :\n",
        "  \\  '        '  /\n",
        "   '.          .'\n",
        "     '-......-'\n",
        "\"\"\"\n",
        "print(smiley)"
      ],
      "metadata": {
        "colab": {
          "base_uri": "https://localhost:8080/"
        },
        "id": "KooEfscz4_3E",
        "outputId": "e4c4e14c-c958-4b5f-9b11-39c171344a6d"
      },
      "execution_count": null,
      "outputs": [
        {
          "output_type": "stream",
          "name": "stdout",
          "text": [
            "Let's draw a smiley face!\n",
            "\n",
            "     .-''''''-.\n",
            "   .'          '.\n",
            "  /   O      O   \\\n",
            " :           `    :\n",
            " |                |   \n",
            " :    .------.    :\n",
            "  \\  '        '  /\n",
            "   '.          .'\n",
            "     '-......-'\n",
            "\n"
          ]
        }
      ]
    },
    {
      "cell_type": "markdown",
      "source": [
        "Exercise: Transform this frowning smiley into a cheerful one!"
      ],
      "metadata": {
        "id": "PZwzH7GN5Dgw"
      }
    },
    {
      "cell_type": "markdown",
      "source": [
        "This program is a game called \"Guess the Number.\" The computer will think of a secret number between 1 and 100, and your goal is to guess the number within as few attempts as possible.\n",
        "\n",
        "Here's how the program works:\n",
        "\n",
        "    The program uses a special tool called \"random\" to choose a secret number randomly between 1 and 100. Each time you run the program, the secret number will be different.\n",
        "\n",
        "    The program starts by setting the number of attempts to 0. This variable will keep track of how many times you try to guess the secret number.\n",
        "\n",
        "    It then displays a welcoming message and tells you that it has thought of a number between 1 and 100.\n",
        "\n",
        "    The program enters a loop that keeps running until you guess the correct number. Inside the loop:\n",
        "\n",
        "    a. You will be asked to enter your guess (a number) using the input() function.\n",
        "\n",
        "    b. The program increases the number of attempts by 1 since you made a guess.\n",
        "\n",
        "    c. It checks whether your guess is too low, too high, or correct compared to the secret number.\n",
        "\n",
        "    d. If your guess is too low, the program tells you \"Too low!\" to help you adjust your next guess.\n",
        "\n",
        "    e. If your guess is too high, the program tells you \"Too high!\" to guide you in making a lower guess.\n",
        "\n",
        "    f. If your guess is correct and matches the secret number, the program congratulates you and tells you how many attempts you took.\n",
        "\n",
        "    g. The program then breaks out of the loop, ending the game.\n",
        "\n",
        "That's it! The program continues to ask for your guesses until you find the correct number. It provides hints to help you get closer to the secret number, and once you guess it correctly, it celebrates your success. Have fun playing the game and see if you can guess the number in the fewest attempts!"
      ],
      "metadata": {
        "id": "XvlEX8pe5kVG"
      }
    },
    {
      "cell_type": "code",
      "source": [
        "import random\n",
        "\n",
        "secret_number = random.randint(1, 100)\n",
        "attempts = 0\n",
        "\n",
        "print(\"Welcome to the Guess the Number Game!\")\n",
        "print(\"I'm thinking of a number between 1 and 100.\")\n",
        "\n",
        "while True:\n",
        "    guess = int(input(\"Take a guess: \"))\n",
        "    attempts += 1\n",
        "\n",
        "    if guess < secret_number:\n",
        "        print(\"Too low!\")\n",
        "    elif guess > secret_number:\n",
        "        print(\"Too high!\")\n",
        "    else:\n",
        "        print(\"Congratulations! You guessed the number in\", attempts, \"attempts.\")\n",
        "        break\n"
      ],
      "metadata": {
        "id": "-AIOSZVj5k4R"
      },
      "execution_count": null,
      "outputs": []
    }
  ]
}