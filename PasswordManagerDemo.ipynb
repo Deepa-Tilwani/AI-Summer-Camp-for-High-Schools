{
  "nbformat": 4,
  "nbformat_minor": 0,
  "metadata": {
    "colab": {
      "provenance": [],
      "authorship_tag": "ABX9TyNZ8CJsOjE2nD5DvBuVxlVw",
      "include_colab_link": true
    },
    "kernelspec": {
      "name": "python3",
      "display_name": "Python 3"
    },
    "language_info": {
      "name": "python"
    }
  },
  "cells": [
    {
      "cell_type": "markdown",
      "metadata": {
        "id": "view-in-github",
        "colab_type": "text"
      },
      "source": [
        "<a href=\"https://colab.research.google.com/github/Deepa-Tilwani/AI-Summer-Camp-for-High-Schools/blob/main/PasswordManagerDemo.ipynb\" target=\"_parent\"><img src=\"https://colab.research.google.com/assets/colab-badge.svg\" alt=\"Open In Colab\"/></a>"
      ]
    },
    {
      "cell_type": "code",
      "source": [],
      "metadata": {
        "id": "ZagSBH3Nh9Pe"
      },
      "execution_count": null,
      "outputs": []
    },
    {
      "cell_type": "markdown",
      "source": [
        "Welcome to hands on session. You are here to learn a application of how to manage passwords with a menu to choose from three options: add a new password, view saved passwords, or exit the program"
      ],
      "metadata": {
        "id": "_pInoD8hiF6S"
      }
    },
    {
      "cell_type": "markdown",
      "source": [
        "When the user selects option 1, they are prompted to enter the account name\n",
        "and password. The account-password pair is then added to the passwords list.\n",
        "When the user selects option 2, the program checks if any passwords are saved. If there are, it displays all the saved passwords along with their respective account names. If none are saved, a message is displayed indicating that no passwords have been saved yet.\n",
        "When the user selects option 3, the program exits and displays a farewell message.\n",
        "\n",
        "This project covers the basics of variables, lists, string functions (used for displaying information), conditionals (used for menu selection), and error handling (invalid choice handling)."
      ],
      "metadata": {
        "id": "SC9Ob2WYiW8p"
      }
    },
    {
      "cell_type": "code",
      "execution_count": 2,
      "metadata": {
        "id": "YdTYGheshhsQ"
      },
      "outputs": [],
      "source": [
        "def main():\n",
        "\n",
        "  #Inside the main() function, we initialize an empty list called passwords. This list will store the account-password pairs entered by the user.\n",
        "    passwords = []\n",
        "\n",
        "    #We print a welcome message to greet the user and introduce the Password Manager.\n",
        "    print(\"Welcome to the Password Manager!\")\n",
        "\n",
        "    #We enter a continuous loop that will display the menu options and handle the user's choice until the user decides to exit the program\n",
        "    while True:\n",
        "        #Inside the loop, we display the menu options to the user, prompting them to enter a choice from 1 to 3.\n",
        "        print(\"\\nMenu:\")\n",
        "        print(\"1. Add a new password\")\n",
        "        print(\"2. View saved passwords\")\n",
        "        print(\"3. Exit\")\n",
        "\n",
        "        #We use the input() function to get the user's choice and store it in the choice variable.\n",
        "        choice = input(\"Enter your choice (1-3): \")\n",
        "\n",
        "        #We use an if-elif-else statement to check the value of choice and perform the corresponding action.\n",
        "        if choice == \"1\":\n",
        "            #The add_password() function is called when the user selects option 1.\n",
        "            #Inside this function, we prompt the user to enter the account name and password.\n",
        "            add_password(passwords)\n",
        "        elif choice == \"2\":\n",
        "            view_passwords(passwords)\n",
        "        elif choice == \"3\":\n",
        "            print(\"Thank you for using the Password Manager!\")\n",
        "            break\n",
        "        else:\n",
        "            print(\"Invalid choice. Please try again.\")\n",
        "\n"
      ]
    },
    {
      "cell_type": "code",
      "source": [
        "def add_password(passwords):\n",
        "    #We use the input() function to get the account name and password from the user and store them in the account and password variables, respectively.\n",
        "    account = input(\"Enter the account name: \")# Prompt user for name\n",
        "    password = input(\"Enter the password: \") # Prompt user for password\n",
        "\n",
        "    passwords.append((account, password))\n",
        "\n",
        "    print(\"Password saved successfully!\")\n",
        "\n",
        "\n"
      ],
      "metadata": {
        "id": "G94Lf-ZBh0Ru"
      },
      "execution_count": null,
      "outputs": []
    },
    {
      "cell_type": "code",
      "source": [
        "def view_passwords(passwords):\n",
        "    if len(passwords) == 0:  # Check if passwords list is empty\n",
        "        print(\"No passwords saved yet.\")\n",
        "    else:\n",
        "        print(\"Saved Passwords:\")\n",
        "        for account, password in passwords: # Iterate over each account-password pair\n",
        "            print(f\"Account: {account}\")\n",
        "            print(f\"Password: {password}\\n\")"
      ],
      "metadata": {
        "id": "hSpaWiMlh15A"
      },
      "execution_count": null,
      "outputs": []
    },
    {
      "cell_type": "markdown",
      "source": [
        "The main() function is the entry point of the program. It initializes an empty list called passwords to store the account-password pairs."
      ],
      "metadata": {
        "id": "A94mD26jiB7M"
      }
    },
    {
      "cell_type": "code",
      "source": [
        "\n",
        "if __name__ == \"__main__\":\n",
        "    main()\n"
      ],
      "metadata": {
        "id": "UbsxdKHeh3QF"
      },
      "execution_count": null,
      "outputs": []
    }
  ]
}